{
 "cells": [
  {
   "cell_type": "markdown",
   "metadata": {
    "id": "6mIJd6b6pbsk"
   },
   "source": [
    "# First, let us set up a few dependencies\n",
    "\n",
    "Don't forget to switch to a GPU-enabled colab runtime!\n",
    "\n",
    "```\n",
    "Runtime -> Change Runtime Type -> GPU\n",
    "```"
   ]
  },
  {
   "cell_type": "code",
   "execution_count": 1,
   "metadata": {
    "id": "6E2APl4pnbAa"
   },
   "outputs": [],
   "source": [
    "import os\n",
    "import contextlib\n",
    "@contextlib.contextmanager\n",
    "def directory(name):\n",
    "  ret = os.getcwd()\n",
    "  print(ret)\n",
    "  os.chdir(name)\n",
    "  yield None\n",
    "  os.chdir(ret)\n",
    "\n",
    "import subprocess\n",
    "def run(input, exception_on_failure=False):\n",
    "  try:\n",
    "    program_output = subprocess.check_output(f\"{input}\", shell=True, universal_newlines=True, stderr=subprocess.STDOUT)\n",
    "  except Exception as e:\n",
    "    if exception_on_failure:\n",
    "      raise e\n",
    "    program_output = e.output\n",
    "\n",
    "    return program_output\n",
    "def prun(input, exception_on_failure=False):\n",
    "  x = run(input, exception_on_failure)\n",
    "  print(x)\n",
    "  return x"
   ]
  },
  {
   "cell_type": "code",
   "execution_count": 2,
   "metadata": {},
   "outputs": [
    {
     "name": "stdout",
     "output_type": "stream",
     "text": [
      ".ipynb_checkpoints\n",
      "Dockerfile\n",
      ".dtproject\n",
      "README.md\n",
      ".gitignore\n",
      "packages\n",
      "docs\n",
      ".vscode\n",
      "assets\n",
      "notebooks\n",
      "tests\n",
      "dt_object_detection_training.ipynb\n",
      "/app\n"
     ]
    }
   ],
   "source": [
    "import os\n",
    "\n",
    "files = os.listdir(os.getcwd())\n",
    "for file in files:\n",
    "    print(file)\n",
    "print(os.getcwd())\n"
   ]
  },
  {
   "cell_type": "markdown",
   "metadata": {
    "id": "s6gJLjcipgNw"
   },
   "source": [
    "# This mounts your google drive to this notebook. You might have to change the path to fit with your dataset folder inside your drive.\n",
    "\n",
    "Read the instruction output by the cell bellow carefully!"
   ]
  },
  {
   "cell_type": "code",
   "execution_count": 3,
   "metadata": {
    "colab": {
     "base_uri": "https://localhost:8080/"
    },
    "id": "shRmyOAbatwZ",
    "outputId": "69fc604b-81b9-4c3b-fe36-6fe858b6db82"
   },
   "outputs": [
    {
     "name": "stdout",
     "output_type": "stream",
     "text": [
      "/app\n",
      "Session workspace created at: /app/home/dharani/Desktop/VSC_Projects/duckietown-lx/object-detection/assets/\n"
     ]
    }
   ],
   "source": [
    "# Create a temporary workspace\n",
    "# import tempfile\n",
    "import os\n",
    "\n",
    "print(os.getcwd())\n",
    "# SESSION_WORKSPACE = tempfile.mkdtemp()\n",
    "SESSION_WORKSPACE = os.path.join(os.getcwd(),\"home/dharani/Desktop/VSC_Projects/duckietown-lx/object-detection/assets/\")\n",
    "print(f\"Session workspace created at: {SESSION_WORKSPACE}\")\n"
   ]
  },
  {
   "cell_type": "code",
   "execution_count": 4,
   "metadata": {
    "colab": {
     "base_uri": "https://localhost:8080/"
    },
    "id": "Iod0c4KF_Vxo",
    "outputId": "291e1487-d2b7-4b88-9ebd-2a3a51178ffe"
   },
   "outputs": [
    {
     "name": "stdout",
     "output_type": "stream",
     "text": [
      "/app/home/dharani/Desktop/VSC_Projects/duckietown-lx/object-detection/assets/duckietown_object_detection_dataset\n"
     ]
    }
   ],
   "source": [
    "# # Mount the drive\n",
    "# from google.colab import drive\n",
    "# drive.mount('/content/drive')\n",
    "# DRIVE_PATH = \"/content/drive/My Drive\"\n",
    "DRIVE_PATH = SESSION_WORKSPACE + \"duckietown_object_detection_dataset\"\n",
    "print(DRIVE_PATH)"
   ]
  },
  {
   "cell_type": "code",
   "execution_count": null,
   "metadata": {
    "colab": {
     "base_uri": "https://localhost:8080/"
    },
    "id": "qhdlb1osbf_a",
    "outputId": "aeadeecb-2ccd-488c-8b69-820ebe5e513c"
   },
   "outputs": [],
   "source": [
    "# Unzip the dataset\n",
    "import shutil\n",
    "import os\n",
    "\n",
    "\n",
    "DATASET_DIR_NAME = \"duckietown_object_detection_dataset\"\n",
    "DATASET_ZIP_NAME = f\"{DATASET_DIR_NAME}.zip\"\n",
    "DATASET_DIR_PATH = os.path.join(SESSION_WORKSPACE, DATASET_DIR_NAME)\n",
    "TRAIN_DIR = \"train\"\n",
    "VALIDATION_DIR = \"val\"\n",
    "IMAGES_DIR = \"images\"\n",
    "LABELS_DIR = \"labels\"\n",
    "\n",
    "\n",
    "def show_info(base_path: str):\n",
    "  for l1 in [TRAIN_DIR, VALIDATION_DIR]:\n",
    "    for l2 in [IMAGES_DIR, LABELS_DIR]:\n",
    "      p = os.path.join(base_path, l1, l2)\n",
    "      print(f\"#Files in {l1}/{l2}: {len(os.listdir(p))}\")\n",
    "\n",
    "\n",
    "def unzip_dataset():\n",
    "  # check zipped file\n",
    "  zip_path = os.path.join(DRIVE_PATH, DATASET_ZIP_NAME)\n",
    "  assert os.path.exists(zip_path), f\"No zipped dataset found at {zip_path}! Abort!\"\n",
    "\n",
    "  # unzip the data\n",
    "  print(\"Unpacking zipped data...\")\n",
    "  shutil.unpack_archive(zip_path, DATASET_DIR_PATH)\n",
    "  print(f\"Zipped dataset unpacked to {DATASET_DIR_PATH}\")\n",
    "\n",
    "  # show some info\n",
    "  show_info(DATASET_DIR_PATH)\n",
    "\n",
    "\n",
    "unzip_dataset()"
   ]
  },
  {
   "cell_type": "code",
   "execution_count": 5,
   "metadata": {
    "colab": {
     "base_uri": "https://localhost:8080/"
    },
    "id": "xpWozMbUeFZA",
    "outputId": "447bca70-565c-4c0a-c3ba-700a1b5e18a3"
   },
   "outputs": [
    {
     "name": "stdout",
     "output_type": "stream",
     "text": [
      "/app\n",
      "/app/assets\n",
      "PWD: /app/assets\n",
      "Requirement already satisfied: torch==1.7.0 in /usr/local/lib/python3.8/site-packages (1.7.0)\n",
      "Requirement already satisfied: torchvision==0.8.1 in /usr/local/lib/python3.8/site-packages (0.8.1)\n",
      "Requirement already satisfied: future in /usr/local/lib/python3.8/site-packages (from torch==1.7.0) (0.18.3)\n",
      "Requirement already satisfied: numpy in /usr/local/lib/python3.8/site-packages (from torch==1.7.0) (1.24.4)\n",
      "Requirement already satisfied: dataclasses in /usr/local/lib/python3.8/site-packages (from torch==1.7.0) (0.6)\n",
      "Requirement already satisfied: typing-extensions in /usr/local/lib/python3.8/site-packages (from torch==1.7.0) (4.8.0)\n",
      "Requirement already satisfied: pillow>=4.1.1 in /usr/local/lib/python3.8/site-packages (from torchvision==0.8.1) (10.0.1)\n",
      "\u001b[33mWARNING: Running pip as the 'root' user can result in broken permissions and conflicting behaviour with the system package manager. It is recommended to use a virtual environment instead: https://pip.pypa.io/warnings/venv\u001b[0m\u001b[33m\n",
      "\u001b[0m\n",
      "\u001b[1m[\u001b[0m\u001b[34;49mnotice\u001b[0m\u001b[1;39;49m]\u001b[0m\u001b[39;49m A new release of pip is available: \u001b[0m\u001b[31;49m23.0.1\u001b[0m\u001b[39;49m -> \u001b[0m\u001b[32;49m23.2.1\u001b[0m\n",
      "\u001b[1m[\u001b[0m\u001b[34;49mnotice\u001b[0m\u001b[1;39;49m]\u001b[0m\u001b[39;49m To update, run: \u001b[0m\u001b[32;49mpip install --upgrade pip\u001b[0m\n"
     ]
    }
   ],
   "source": [
    "# change  working directory to the session workspace\n",
    "print(os.getcwd())\n",
    "working_directory = os.path.join(os.getcwd(),\"assets\")\n",
    "print(working_directory)\n",
    "os.chdir(working_directory)\n",
    "print(f\"PWD: {os.getcwd()}\")\n",
    "\n",
    "# install pytorch and torchvision (these versions must match those on the physical duckiebot)\n",
    "!pip3 install torch==1.7.0 torchvision==0.8.1"
   ]
  },
  {
   "cell_type": "markdown",
   "metadata": {
    "id": "bc4VMcwmpr84"
   },
   "source": [
    "# Next, we will clone Yolov5"
   ]
  },
  {
   "cell_type": "code",
   "execution_count": 6,
   "metadata": {
    "id": "P8L68QAeZF9G"
   },
   "outputs": [
    {
     "name": "stdout",
     "output_type": "stream",
     "text": [
      "Cloning into 'yolov5'...\n",
      "remote: Enumerating objects: 15994, done.\u001b[K\n",
      "remote: Counting objects: 100% (27/27), done.\u001b[K\n",
      "remote: Compressing objects: 100% (15/15), done.\u001b[K\n",
      "remote: Total 15994 (delta 18), reused 18 (delta 12), pack-reused 15967\u001b[K\n",
      "Receiving objects: 100% (15994/15994), 14.65 MiB | 7.32 MiB/s, done.\n",
      "Resolving deltas: 100% (10984/10984), done.\n",
      "Note: switching to '915bbf294bb74c859f0b41f1c23bc395014ea679'.\n",
      "\n",
      "You are in 'detached HEAD' state. You can look around, make experimental\n",
      "changes and commit them, and you can discard any commits you make in this\n",
      "state without impacting any branches by switching back to a branch.\n",
      "\n",
      "If you want to create a new branch to retain commits you create, you may\n",
      "do so (now or later) by using -c with the switch command. Example:\n",
      "\n",
      "  git switch -c <new-branch-name>\n",
      "\n",
      "Or undo this operation with:\n",
      "\n",
      "  git switch -\n",
      "\n",
      "Turn off this advice by setting config variable advice.detachedHead to false\n",
      "\n",
      "fatal: not a git repository (or any parent up to mount point /)\n",
      "Stopping at filesystem boundary (GIT_DISCOVERY_ACROSS_FILESYSTEM not set).\n",
      "Collecting gitpython\n",
      "  Downloading GitPython-3.1.37-py3-none-any.whl (190 kB)\n",
      "\u001b[2K     \u001b[90m━━━━━━━━━━━━━━━━━━━━━━━━━━━━━━━━━━━━━━━\u001b[0m \u001b[32m190.0/190.0 kB\u001b[0m \u001b[31m4.6 MB/s\u001b[0m eta \u001b[36m0:00:00\u001b[0ma \u001b[36m0:00:01\u001b[0m\n",
      "\u001b[?25hRequirement already satisfied: ipython in /usr/local/lib/python3.8/site-packages (from -r requirements.txt (line 6)) (8.12.2)\n",
      "Collecting matplotlib>=3.2.2\n",
      "  Downloading matplotlib-3.7.3-cp38-cp38-manylinux_2_12_x86_64.manylinux2010_x86_64.whl (9.2 MB)\n",
      "\u001b[2K     \u001b[90m━━━━━━━━━━━━━━━━━━━━━━━━━━━━━━━━━━━━━━━━\u001b[0m \u001b[32m9.2/9.2 MB\u001b[0m \u001b[31m55.8 MB/s\u001b[0m eta \u001b[36m0:00:00\u001b[0m00:01\u001b[0m00:01\u001b[0m\n",
      "\u001b[?25hRequirement already satisfied: numpy>=1.18.5 in /usr/local/lib/python3.8/site-packages (from -r requirements.txt (line 8)) (1.24.4)\n",
      "Collecting opencv-python>=4.1.1\n",
      "  Downloading opencv_python-4.8.0.76-cp37-abi3-manylinux_2_17_x86_64.manylinux2014_x86_64.whl (61.7 MB)\n",
      "\u001b[2K     \u001b[90m━━━━━━━━━━━━━━━━━━━━━━━━━━━━━━━━━━━━━━━━\u001b[0m \u001b[32m61.7/61.7 MB\u001b[0m \u001b[31m41.1 MB/s\u001b[0m eta \u001b[36m0:00:00\u001b[0m00:01\u001b[0m00:01\u001b[0m\n",
      "\u001b[?25hRequirement already satisfied: Pillow>=7.1.2 in /usr/local/lib/python3.8/site-packages (from -r requirements.txt (line 10)) (10.0.1)\n",
      "Requirement already satisfied: psutil in /usr/local/lib/python3.8/site-packages (from -r requirements.txt (line 11)) (5.9.5)\n",
      "Requirement already satisfied: PyYAML>=5.3.1 in /usr/local/lib/python3.8/site-packages (from -r requirements.txt (line 12)) (6.0.1)\n",
      "Requirement already satisfied: requests>=2.23.0 in /usr/local/lib/python3.8/site-packages (from -r requirements.txt (line 13)) (2.31.0)\n",
      "Collecting scipy>=1.4.1\n",
      "  Downloading scipy-1.10.1-cp38-cp38-manylinux_2_17_x86_64.manylinux2014_x86_64.whl (34.5 MB)\n",
      "\u001b[2K     \u001b[90m━━━━━━━━━━━━━━━━━━━━━━━━━━━━━━━━━━━━━━━━\u001b[0m \u001b[32m34.5/34.5 MB\u001b[0m \u001b[31m54.8 MB/s\u001b[0m eta \u001b[36m0:00:00\u001b[0m00:01\u001b[0m00:01\u001b[0m\n",
      "\u001b[?25hCollecting thop>=0.1.1\n",
      "  Downloading thop-0.1.1.post2209072238-py3-none-any.whl (15 kB)\n",
      "Requirement already satisfied: torch>=1.7.0 in /usr/local/lib/python3.8/site-packages (from -r requirements.txt (line 16)) (1.7.0)\n",
      "Requirement already satisfied: torchvision>=0.8.1 in /usr/local/lib/python3.8/site-packages (from -r requirements.txt (line 17)) (0.8.1)\n",
      "Collecting tqdm>=4.64.0\n",
      "  Downloading tqdm-4.66.1-py3-none-any.whl (78 kB)\n",
      "\u001b[2K     \u001b[90m━━━━━━━━━━━━━━━━━━━━━━━━━━━━━━━━━━━━━━━━\u001b[0m \u001b[32m78.3/78.3 kB\u001b[0m \u001b[31m7.4 MB/s\u001b[0m eta \u001b[36m0:00:00\u001b[0m\n",
      "\u001b[?25hCollecting tensorboard>=2.4.1\n",
      "  Downloading tensorboard-2.14.0-py3-none-any.whl (5.5 MB)\n",
      "\u001b[2K     \u001b[90m━━━━━━━━━━━━━━━━━━━━━━━━━━━━━━━━━━━━━━━━\u001b[0m \u001b[32m5.5/5.5 MB\u001b[0m \u001b[31m59.6 MB/s\u001b[0m eta \u001b[36m0:00:00\u001b[0m00:01\u001b[0m00:01\u001b[0m\n",
      "\u001b[?25hCollecting pandas>=1.1.4\n",
      "  Downloading pandas-2.0.3-cp38-cp38-manylinux_2_17_x86_64.manylinux2014_x86_64.whl (12.4 MB)\n",
      "\u001b[2K     \u001b[90m━━━━━━━━━━━━━━━━━━━━━━━━━━━━━━━━━━━━━━━━\u001b[0m \u001b[32m12.4/12.4 MB\u001b[0m \u001b[31m67.7 MB/s\u001b[0m eta \u001b[36m0:00:00\u001b[0m00:01\u001b[0m0:01\u001b[0m\n",
      "\u001b[?25hCollecting seaborn>=0.11.0\n",
      "  Downloading seaborn-0.12.2-py3-none-any.whl (293 kB)\n",
      "\u001b[2K     \u001b[90m━━━━━━━━━━━━━━━━━━━━━━━━━━━━━━━━━━━━━━\u001b[0m \u001b[32m293.3/293.3 kB\u001b[0m \u001b[31m24.1 MB/s\u001b[0m eta \u001b[36m0:00:00\u001b[0m\n",
      "\u001b[?25hCollecting gitdb<5,>=4.0.1\n",
      "  Downloading gitdb-4.0.10-py3-none-any.whl (62 kB)\n",
      "\u001b[2K     \u001b[90m━━━━━━━━━━━━━━━━━━━━━━━━━━━━━━━━━━━━━━━━\u001b[0m \u001b[32m62.7/62.7 kB\u001b[0m \u001b[31m4.5 MB/s\u001b[0m eta \u001b[36m0:00:00\u001b[0m\n",
      "\u001b[?25hRequirement already satisfied: stack-data in /usr/local/lib/python3.8/site-packages (from ipython->-r requirements.txt (line 6)) (0.6.2)\n",
      "Requirement already satisfied: pexpect>4.3 in /usr/local/lib/python3.8/site-packages (from ipython->-r requirements.txt (line 6)) (4.8.0)\n",
      "Requirement already satisfied: jedi>=0.16 in /usr/local/lib/python3.8/site-packages (from ipython->-r requirements.txt (line 6)) (0.19.0)\n",
      "Requirement already satisfied: matplotlib-inline in /usr/local/lib/python3.8/site-packages (from ipython->-r requirements.txt (line 6)) (0.1.6)\n",
      "Requirement already satisfied: decorator in /usr/local/lib/python3.8/site-packages (from ipython->-r requirements.txt (line 6)) (5.1.1)\n",
      "Requirement already satisfied: pickleshare in /usr/local/lib/python3.8/site-packages (from ipython->-r requirements.txt (line 6)) (0.7.5)\n",
      "Requirement already satisfied: traitlets>=5 in /usr/local/lib/python3.8/site-packages (from ipython->-r requirements.txt (line 6)) (5.10.0)\n",
      "Requirement already satisfied: prompt-toolkit!=3.0.37,<3.1.0,>=3.0.30 in /usr/local/lib/python3.8/site-packages (from ipython->-r requirements.txt (line 6)) (3.0.39)\n",
      "Requirement already satisfied: backcall in /usr/local/lib/python3.8/site-packages (from ipython->-r requirements.txt (line 6)) (0.2.0)\n",
      "Requirement already satisfied: pygments>=2.4.0 in /usr/local/lib/python3.8/site-packages (from ipython->-r requirements.txt (line 6)) (2.16.1)\n",
      "Requirement already satisfied: typing-extensions in /usr/local/lib/python3.8/site-packages (from ipython->-r requirements.txt (line 6)) (4.8.0)\n",
      "Collecting cycler>=0.10\n",
      "  Downloading cycler-0.11.0-py3-none-any.whl (6.4 kB)\n",
      "Collecting fonttools>=4.22.0\n",
      "  Downloading fonttools-4.42.1-cp38-cp38-manylinux_2_17_x86_64.manylinux2014_x86_64.whl (4.6 MB)\n",
      "\u001b[2K     \u001b[90m━━━━━━━━━━━━━━━━━━━━━━━━━━━━━━━━━━━━━━━━\u001b[0m \u001b[32m4.6/4.6 MB\u001b[0m \u001b[31m62.0 MB/s\u001b[0m eta \u001b[36m0:00:00\u001b[0m00:01\u001b[0m00:01\u001b[0m\n",
      "\u001b[?25hRequirement already satisfied: packaging>=20.0 in /usr/local/lib/python3.8/site-packages (from matplotlib>=3.2.2->-r requirements.txt (line 7)) (23.1)\n",
      "Collecting pyparsing>=2.3.1\n",
      "  Downloading pyparsing-3.1.1-py3-none-any.whl (103 kB)\n",
      "\u001b[2K     \u001b[90m━━━━━━━━━━━━━━━━━━━━━━━━━━━━━━━━━━━━━━━\u001b[0m \u001b[32m103.1/103.1 kB\u001b[0m \u001b[31m9.0 MB/s\u001b[0m eta \u001b[36m0:00:00\u001b[0m\n",
      "\u001b[?25hRequirement already satisfied: python-dateutil>=2.7 in /usr/local/lib/python3.8/site-packages (from matplotlib>=3.2.2->-r requirements.txt (line 7)) (2.8.2)\n",
      "Requirement already satisfied: importlib-resources>=3.2.0 in /usr/local/lib/python3.8/site-packages (from matplotlib>=3.2.2->-r requirements.txt (line 7)) (6.1.0)\n",
      "Collecting contourpy>=1.0.1\n",
      "  Downloading contourpy-1.1.1-cp38-cp38-manylinux_2_17_x86_64.manylinux2014_x86_64.whl (301 kB)\n",
      "\u001b[2K     \u001b[90m━━━━━━━━━━━━━━━━━━━━━━━━━━━━━━━━━━━━━━\u001b[0m \u001b[32m301.1/301.1 kB\u001b[0m \u001b[31m24.0 MB/s\u001b[0m eta \u001b[36m0:00:00\u001b[0m\n",
      "\u001b[?25hCollecting kiwisolver>=1.0.1\n",
      "  Downloading kiwisolver-1.4.5-cp38-cp38-manylinux_2_5_x86_64.manylinux1_x86_64.whl (1.2 MB)\n",
      "\u001b[2K     \u001b[90m━━━━━━━━━━━━━━━━━━━━━━━━━━━━━━━━━━━━━━━━\u001b[0m \u001b[32m1.2/1.2 MB\u001b[0m \u001b[31m53.3 MB/s\u001b[0m eta \u001b[36m0:00:00\u001b[0m\n",
      "\u001b[?25hRequirement already satisfied: urllib3<3,>=1.21.1 in /usr/local/lib/python3.8/site-packages (from requests>=2.23.0->-r requirements.txt (line 13)) (2.0.5)\n",
      "Requirement already satisfied: charset-normalizer<4,>=2 in /usr/local/lib/python3.8/site-packages (from requests>=2.23.0->-r requirements.txt (line 13)) (3.2.0)\n",
      "Requirement already satisfied: idna<4,>=2.5 in /usr/local/lib/python3.8/site-packages (from requests>=2.23.0->-r requirements.txt (line 13)) (3.4)\n",
      "Requirement already satisfied: certifi>=2017.4.17 in /usr/local/lib/python3.8/site-packages (from requests>=2.23.0->-r requirements.txt (line 13)) (2023.7.22)\n",
      "Requirement already satisfied: dataclasses in /usr/local/lib/python3.8/site-packages (from torch>=1.7.0->-r requirements.txt (line 16)) (0.6)\n",
      "Requirement already satisfied: future in /usr/local/lib/python3.8/site-packages (from torch>=1.7.0->-r requirements.txt (line 16)) (0.18.3)\n",
      "Collecting grpcio>=1.48.2\n",
      "  Downloading grpcio-1.58.0-cp38-cp38-manylinux_2_17_x86_64.manylinux2014_x86_64.whl (5.3 MB)\n",
      "\u001b[2K     \u001b[90m━━━━━━━━━━━━━━━━━━━━━━━━━━━━━━━━━━━━━━━━\u001b[0m \u001b[32m5.3/5.3 MB\u001b[0m \u001b[31m61.5 MB/s\u001b[0m eta \u001b[36m0:00:00\u001b[0m00:01\u001b[0m00:01\u001b[0m\n",
      "\u001b[?25hCollecting werkzeug>=1.0.1\n",
      "  Downloading werkzeug-2.3.7-py3-none-any.whl (242 kB)\n",
      "\u001b[2K     \u001b[90m━━━━━━━━━━━━━━━━━━━━━━━━━━━━━━━━━━━━━━\u001b[0m \u001b[32m242.2/242.2 kB\u001b[0m \u001b[31m21.0 MB/s\u001b[0m eta \u001b[36m0:00:00\u001b[0m\n",
      "\u001b[?25hRequirement already satisfied: setuptools>=41.0.0 in /usr/local/lib/python3.8/site-packages (from tensorboard>=2.4.1->-r requirements.txt (line 22)) (57.5.0)\n",
      "Collecting tensorboard-data-server<0.8.0,>=0.7.0\n",
      "  Downloading tensorboard_data_server-0.7.1-py3-none-manylinux2014_x86_64.whl (6.6 MB)\n",
      "\u001b[2K     \u001b[90m━━━━━━━━━━━━━━━━━━━━━━━━━━━━━━━━━━━━━━━━\u001b[0m \u001b[32m6.6/6.6 MB\u001b[0m \u001b[31m68.0 MB/s\u001b[0m eta \u001b[36m0:00:00\u001b[0m00:01\u001b[0m00:01\u001b[0m\n",
      "\u001b[?25hCollecting protobuf>=3.19.6\n",
      "  Downloading protobuf-4.24.3-cp37-abi3-manylinux2014_x86_64.whl (311 kB)\n",
      "\u001b[2K     \u001b[90m━━━━━━━━━━━━━━━━━━━━━━━━━━━━━━━━━━━━━━\u001b[0m \u001b[32m311.6/311.6 kB\u001b[0m \u001b[31m25.7 MB/s\u001b[0m eta \u001b[36m0:00:00\u001b[0m\n",
      "\u001b[?25hRequirement already satisfied: wheel>=0.26 in /usr/local/lib/python3.8/site-packages (from tensorboard>=2.4.1->-r requirements.txt (line 22)) (0.41.2)\n",
      "Collecting absl-py>=0.4\n",
      "  Downloading absl_py-2.0.0-py3-none-any.whl (130 kB)\n",
      "\u001b[2K     \u001b[90m━━━━━━━━━━━━━━━━━━━━━━━━━━━━━━━━━━━━━━\u001b[0m \u001b[32m130.2/130.2 kB\u001b[0m \u001b[31m10.8 MB/s\u001b[0m eta \u001b[36m0:00:00\u001b[0m\n",
      "\u001b[?25hCollecting google-auth<3,>=1.6.3\n",
      "  Downloading google_auth-2.23.0-py2.py3-none-any.whl (181 kB)\n",
      "\u001b[2K     \u001b[90m━━━━━━━━━━━━━━━━━━━━━━━━━━━━━━━━━━━━━━\u001b[0m \u001b[32m181.4/181.4 kB\u001b[0m \u001b[31m17.2 MB/s\u001b[0m eta \u001b[36m0:00:00\u001b[0m\n",
      "\u001b[?25hCollecting markdown>=2.6.8\n",
      "  Downloading Markdown-3.4.4-py3-none-any.whl (94 kB)\n",
      "\u001b[2K     \u001b[90m━━━━━━━━━━━━━━━━━━━━━━━━━━━━━━━━━━━━━━━━\u001b[0m \u001b[32m94.2/94.2 kB\u001b[0m \u001b[31m8.2 MB/s\u001b[0m eta \u001b[36m0:00:00\u001b[0m\n",
      "\u001b[?25hCollecting google-auth-oauthlib<1.1,>=0.5\n",
      "  Downloading google_auth_oauthlib-1.0.0-py2.py3-none-any.whl (18 kB)\n",
      "Requirement already satisfied: pytz>=2020.1 in /usr/local/lib/python3.8/site-packages (from pandas>=1.1.4->-r requirements.txt (line 27)) (2023.3.post1)\n",
      "Collecting tzdata>=2022.1\n",
      "  Downloading tzdata-2023.3-py2.py3-none-any.whl (341 kB)\n",
      "\u001b[2K     \u001b[90m━━━━━━━━━━━━━━━━━━━━━━━━━━━━━━━━━━━━━━\u001b[0m \u001b[32m341.8/341.8 kB\u001b[0m \u001b[31m28.2 MB/s\u001b[0m eta \u001b[36m0:00:00\u001b[0m\n",
      "\u001b[?25hCollecting smmap<6,>=3.0.1\n",
      "  Downloading smmap-5.0.1-py3-none-any.whl (24 kB)\n",
      "Collecting rsa<5,>=3.1.4\n",
      "  Downloading rsa-4.9-py3-none-any.whl (34 kB)\n",
      "Collecting cachetools<6.0,>=2.0.0\n",
      "  Downloading cachetools-5.3.1-py3-none-any.whl (9.3 kB)\n",
      "Collecting pyasn1-modules>=0.2.1\n",
      "  Downloading pyasn1_modules-0.3.0-py2.py3-none-any.whl (181 kB)\n",
      "\u001b[2K     \u001b[90m━━━━━━━━━━━━━━━━━━━━━━━━━━━━━━━━━━━━━━\u001b[0m \u001b[32m181.3/181.3 kB\u001b[0m \u001b[31m16.2 MB/s\u001b[0m eta \u001b[36m0:00:00\u001b[0m\n",
      "\u001b[?25hCollecting urllib3<3,>=1.21.1\n",
      "  Downloading urllib3-1.26.16-py2.py3-none-any.whl (143 kB)\n",
      "\u001b[2K     \u001b[90m━━━━━━━━━━━━━━━━━━━━━━━━━━━━━━━━━━━━━━\u001b[0m \u001b[32m143.1/143.1 kB\u001b[0m \u001b[31m13.3 MB/s\u001b[0m eta \u001b[36m0:00:00\u001b[0m\n",
      "\u001b[?25hCollecting requests-oauthlib>=0.7.0\n",
      "  Downloading requests_oauthlib-1.3.1-py2.py3-none-any.whl (23 kB)\n",
      "Requirement already satisfied: zipp>=3.1.0 in /usr/local/lib/python3.8/site-packages (from importlib-resources>=3.2.0->matplotlib>=3.2.2->-r requirements.txt (line 7)) (3.17.0)\n",
      "Requirement already satisfied: parso<0.9.0,>=0.8.3 in /usr/local/lib/python3.8/site-packages (from jedi>=0.16->ipython->-r requirements.txt (line 6)) (0.8.3)\n",
      "Requirement already satisfied: importlib-metadata>=4.4 in /usr/local/lib/python3.8/site-packages (from markdown>=2.6.8->tensorboard>=2.4.1->-r requirements.txt (line 22)) (6.8.0)\n",
      "Requirement already satisfied: ptyprocess>=0.5 in /usr/local/lib/python3.8/site-packages (from pexpect>4.3->ipython->-r requirements.txt (line 6)) (0.7.0)\n",
      "Requirement already satisfied: wcwidth in /usr/local/lib/python3.8/site-packages (from prompt-toolkit!=3.0.37,<3.1.0,>=3.0.30->ipython->-r requirements.txt (line 6)) (0.2.6)\n",
      "Requirement already satisfied: six>=1.5 in /usr/local/lib/python3.8/site-packages (from python-dateutil>=2.7->matplotlib>=3.2.2->-r requirements.txt (line 7)) (1.16.0)\n",
      "Requirement already satisfied: MarkupSafe>=2.1.1 in /usr/local/lib/python3.8/site-packages (from werkzeug>=1.0.1->tensorboard>=2.4.1->-r requirements.txt (line 22)) (2.1.3)\n",
      "Requirement already satisfied: pure-eval in /usr/local/lib/python3.8/site-packages (from stack-data->ipython->-r requirements.txt (line 6)) (0.2.2)\n",
      "Requirement already satisfied: executing>=1.2.0 in /usr/local/lib/python3.8/site-packages (from stack-data->ipython->-r requirements.txt (line 6)) (1.2.0)\n",
      "Requirement already satisfied: asttokens>=2.1.0 in /usr/local/lib/python3.8/site-packages (from stack-data->ipython->-r requirements.txt (line 6)) (2.4.0)\n",
      "Collecting pyasn1<0.6.0,>=0.4.6\n",
      "  Downloading pyasn1-0.5.0-py2.py3-none-any.whl (83 kB)\n",
      "\u001b[2K     \u001b[90m━━━━━━━━━━━━━━━━━━━━━━━━━━━━━━━━━━━━━━━━\u001b[0m \u001b[32m83.9/83.9 kB\u001b[0m \u001b[31m7.6 MB/s\u001b[0m eta \u001b[36m0:00:00\u001b[0m\n",
      "\u001b[?25hCollecting oauthlib>=3.0.0\n",
      "  Downloading oauthlib-3.2.2-py3-none-any.whl (151 kB)\n",
      "\u001b[2K     \u001b[90m━━━━━━━━━━━━━━━━━━━━━━━━━━━━━━━━━━━━━━\u001b[0m \u001b[32m151.7/151.7 kB\u001b[0m \u001b[31m12.8 MB/s\u001b[0m eta \u001b[36m0:00:00\u001b[0m\n",
      "\u001b[?25hInstalling collected packages: werkzeug, urllib3, tzdata, tqdm, tensorboard-data-server, smmap, scipy, pyparsing, pyasn1, protobuf, opencv-python, oauthlib, kiwisolver, grpcio, fonttools, cycler, contourpy, cachetools, absl-py, thop, rsa, pyasn1-modules, pandas, matplotlib, markdown, gitdb, seaborn, requests-oauthlib, google-auth, gitpython, google-auth-oauthlib, tensorboard\n",
      "  Attempting uninstall: urllib3\n",
      "    Found existing installation: urllib3 2.0.5\n",
      "    Uninstalling urllib3-2.0.5:\n",
      "      Successfully uninstalled urllib3-2.0.5\n",
      "Successfully installed absl-py-2.0.0 cachetools-5.3.1 contourpy-1.1.1 cycler-0.11.0 fonttools-4.42.1 gitdb-4.0.10 gitpython-3.1.37 google-auth-2.23.0 google-auth-oauthlib-1.0.0 grpcio-1.58.0 kiwisolver-1.4.5 markdown-3.4.4 matplotlib-3.7.3 oauthlib-3.2.2 opencv-python-4.8.0.76 pandas-2.0.3 protobuf-4.24.3 pyasn1-0.5.0 pyasn1-modules-0.3.0 pyparsing-3.1.1 requests-oauthlib-1.3.1 rsa-4.9 scipy-1.10.1 seaborn-0.12.2 smmap-5.0.1 tensorboard-2.14.0 tensorboard-data-server-0.7.1 thop-0.1.1.post2209072238 tqdm-4.66.1 tzdata-2023.3 urllib3-1.26.16 werkzeug-2.3.7\n",
      "\u001b[33mWARNING: Running pip as the 'root' user can result in broken permissions and conflicting behaviour with the system package manager. It is recommended to use a virtual environment instead: https://pip.pypa.io/warnings/venv\u001b[0m\u001b[33m\n",
      "\u001b[0m\n",
      "\u001b[1m[\u001b[0m\u001b[34;49mnotice\u001b[0m\u001b[1;39;49m]\u001b[0m\u001b[39;49m A new release of pip is available: \u001b[0m\u001b[31;49m23.0.1\u001b[0m\u001b[39;49m -> \u001b[0m\u001b[32;49m23.2.1\u001b[0m\n",
      "\u001b[1m[\u001b[0m\u001b[34;49mnotice\u001b[0m\u001b[1;39;49m]\u001b[0m\u001b[39;49m To update, run: \u001b[0m\u001b[32;49mpip install --upgrade pip\u001b[0m\n"
     ]
    }
   ],
   "source": [
    "!rm -rf ./yolov5\n",
    "!git clone https://github.com/ultralytics/yolov5.git -b v7.0\n",
    "!git pull\n",
    "!cd yolov5 && pip3 install -r requirements.txt"
   ]
  },
  {
   "cell_type": "markdown",
   "metadata": {
    "id": "g5iilV-e76YN"
   },
   "source": [
    "# We now inform the training process of the format and location of our dataset"
   ]
  },
  {
   "cell_type": "code",
   "execution_count": 8,
   "metadata": {
    "id": "7u3D124u8Flw"
   },
   "outputs": [
    {
     "name": "stdout",
     "output_type": "stream",
     "text": [
      "Overwriting ./yolov5/data/duckietown.yaml\n"
     ]
    }
   ],
   "source": [
    "%%writefile ./yolov5/data/duckietown.yaml\n",
    "\n",
    "# train and val data as 1) directory: path/images/, 2) file: path/images.txt, or 3) list: [path1/images/, path2/images/]\n",
    "train: ../duckietown_object_detection_dataset/train\n",
    "val: ../duckietown_object_detection_dataset/val\n",
    "\n",
    "# number of classes\n",
    "nc: 4\n",
    "\n",
    "# class names\n",
    "names: [ 'duckie', 'cone', 'truck', 'bus' ]"
   ]
  },
  {
   "cell_type": "code",
   "execution_count": null,
   "metadata": {},
   "outputs": [
    {
     "name": "stdout",
     "output_type": "stream",
     "text": [
      "Found existing installation: Pillow 10.0.1\n",
      "Uninstalling Pillow-10.0.1:\n",
      "  Would remove:\n",
      "    /usr/local/lib/python3.8/site-packages/PIL/*\n",
      "    /usr/local/lib/python3.8/site-packages/Pillow-10.0.1.dist-info/*\n",
      "    /usr/local/lib/python3.8/site-packages/Pillow.libs/libXau-154567c4.so.6.0.0\n",
      "    /usr/local/lib/python3.8/site-packages/Pillow.libs/libbrotlicommon-3ecfe81c.so.1\n",
      "    /usr/local/lib/python3.8/site-packages/Pillow.libs/libbrotlidec-922c819b.so.1\n",
      "    /usr/local/lib/python3.8/site-packages/Pillow.libs/libfreetype-82733d78.so.6.20.1\n",
      "    /usr/local/lib/python3.8/site-packages/Pillow.libs/libharfbuzz-a8a034ff.so.0.60820.0\n",
      "    /usr/local/lib/python3.8/site-packages/Pillow.libs/libjpeg-58afefff.so.62.4.0\n",
      "    /usr/local/lib/python3.8/site-packages/Pillow.libs/liblcms2-0821774a.so.2.0.15\n",
      "    /usr/local/lib/python3.8/site-packages/Pillow.libs/liblzma-1e44b93d.so.5.4.4\n",
      "    /usr/local/lib/python3.8/site-packages/Pillow.libs/libopenjp2-20e347f0.so.2.5.0\n",
      "    /usr/local/lib/python3.8/site-packages/Pillow.libs/libpng16-78d422d5.so.16.40.0\n",
      "    /usr/local/lib/python3.8/site-packages/Pillow.libs/libsharpyuv-20f78091.so.0.0.1\n",
      "    /usr/local/lib/python3.8/site-packages/Pillow.libs/libtiff-5bd7527b.so.6.0.1\n",
      "    /usr/local/lib/python3.8/site-packages/Pillow.libs/libwebp-850e2bec.so.7.1.8\n",
      "    /usr/local/lib/python3.8/site-packages/Pillow.libs/libwebpdemux-df9b36c7.so.2.0.14\n",
      "    /usr/local/lib/python3.8/site-packages/Pillow.libs/libwebpmux-9fe05867.so.3.0.13\n",
      "    /usr/local/lib/python3.8/site-packages/Pillow.libs/libxcb-f0538cc0.so.1.1.0\n",
      "Proceed (Y/n)? "
     ]
    }
   ],
   "source": []
  },
  {
   "cell_type": "markdown",
   "metadata": {
    "id": "CalmQI9Ypx5v"
   },
   "source": [
    "# And we're ready to train! This step will take about 5 minutes.\n",
    "\n",
    "Notice that we're only training for 10 epochs. That's probably not enough!"
   ]
  },
  {
   "cell_type": "code",
   "execution_count": 9,
   "metadata": {
    "id": "Kss7Oid6OkAv"
   },
   "outputs": [
    {
     "name": "stdout",
     "output_type": "stream",
     "text": [
      "\u001b[34m\u001b[1mtrain: \u001b[0mweights=yolov5n.pt, cfg=./models/yolov5n.yaml, data=duckietown.yaml, hyp=data/hyps/hyp.scratch-low.yaml, epochs=10, batch_size=32, imgsz=416, rect=False, resume=False, nosave=False, noval=False, noautoanchor=False, noplots=False, evolve=None, bucket=, cache=None, image_weights=False, device=, multi_scale=False, single_cls=False, optimizer=SGD, sync_bn=False, workers=8, project=runs/train, name=exp, exist_ok=False, quad=False, cos_lr=False, label_smoothing=0.0, patience=100, freeze=[0], save_period=-1, seed=0, local_rank=-1, entity=None, upload_dataset=False, bbox_interval=-1, artifact_alias=latest\n",
      "\u001b[34m\u001b[1mgithub: \u001b[0m⚠️ YOLOv5 is out of date by 224 commits. Use `git pull` or `git clone https://github.com/ultralytics/yolov5` to update.\n",
      "YOLOv5 🚀 v7.0-0-g915bbf2 Python-3.8.18 torch-1.7.0 CPU\n",
      "\n",
      "\u001b[34m\u001b[1mhyperparameters: \u001b[0mlr0=0.01, lrf=0.01, momentum=0.937, weight_decay=0.0005, warmup_epochs=3.0, warmup_momentum=0.8, warmup_bias_lr=0.1, box=0.05, cls=0.5, cls_pw=1.0, obj=1.0, obj_pw=1.0, iou_t=0.2, anchor_t=4.0, fl_gamma=0.0, hsv_h=0.015, hsv_s=0.7, hsv_v=0.4, degrees=0.0, translate=0.1, scale=0.5, shear=0.0, perspective=0.0, flipud=0.0, fliplr=0.5, mosaic=1.0, mixup=0.0, copy_paste=0.0\n",
      "\u001b[34m\u001b[1mClearML: \u001b[0mrun 'pip install clearml' to automatically track, visualize and remotely train YOLOv5 🚀 in ClearML\n",
      "\u001b[34m\u001b[1mComet: \u001b[0mrun 'pip install comet_ml' to automatically track and visualize YOLOv5 🚀 runs in Comet\n",
      "\u001b[34m\u001b[1mTensorBoard: \u001b[0mStart with 'tensorboard --logdir runs/train', view at http://localhost:6006/\n",
      "Downloading https://ultralytics.com/assets/Arial.ttf to /root/.config/Ultralytics/Arial.ttf...\n",
      "100%|████████████████████████████████████████| 755k/755k [00:00<00:00, 16.8MB/s]\n",
      "Downloading https://github.com/ultralytics/yolov5/releases/download/v7.0/yolov5n.pt to yolov5n.pt...\n",
      "100%|██████████████████████████████████████| 3.87M/3.87M [00:00<00:00, 45.1MB/s]\n",
      "\n",
      "Overriding model.yaml nc=80 with nc=4\n",
      "\n",
      "                 from  n    params  module                                  arguments                     \n",
      "  0                -1  1      1760  models.common.Conv                      [3, 16, 6, 2, 2]              \n",
      "  1                -1  1      4672  models.common.Conv                      [16, 32, 3, 2]                \n",
      "  2                -1  1      4800  models.common.C3                        [32, 32, 1]                   \n",
      "  3                -1  1     18560  models.common.Conv                      [32, 64, 3, 2]                \n",
      "  4                -1  2     29184  models.common.C3                        [64, 64, 2]                   \n",
      "  5                -1  1     73984  models.common.Conv                      [64, 128, 3, 2]               \n",
      "  6                -1  3    156928  models.common.C3                        [128, 128, 3]                 \n",
      "  7                -1  1    295424  models.common.Conv                      [128, 256, 3, 2]              \n",
      "  8                -1  1    296448  models.common.C3                        [256, 256, 1]                 \n",
      "  9                -1  1    164608  models.common.SPPF                      [256, 256, 5]                 \n",
      " 10                -1  1     33024  models.common.Conv                      [256, 128, 1, 1]              \n",
      " 11                -1  1         0  torch.nn.modules.upsampling.Upsample    [None, 2, 'nearest']          \n",
      " 12           [-1, 6]  1         0  models.common.Concat                    [1]                           \n",
      " 13                -1  1     90880  models.common.C3                        [256, 128, 1, False]          \n",
      " 14                -1  1      8320  models.common.Conv                      [128, 64, 1, 1]               \n",
      " 15                -1  1         0  torch.nn.modules.upsampling.Upsample    [None, 2, 'nearest']          \n",
      " 16           [-1, 4]  1         0  models.common.Concat                    [1]                           \n",
      " 17                -1  1     22912  models.common.C3                        [128, 64, 1, False]           \n",
      " 18                -1  1     36992  models.common.Conv                      [64, 64, 3, 2]                \n",
      " 19          [-1, 14]  1         0  models.common.Concat                    [1]                           \n",
      " 20                -1  1     74496  models.common.C3                        [128, 128, 1, False]          \n",
      " 21                -1  1    147712  models.common.Conv                      [128, 128, 3, 2]              \n",
      " 22          [-1, 10]  1         0  models.common.Concat                    [1]                           \n",
      " 23                -1  1    296448  models.common.C3                        [256, 256, 1, False]          \n",
      " 24      [17, 20, 23]  1     12177  models.yolo.Detect                      [4, [[10, 13, 16, 30, 33, 23], [30, 61, 62, 45, 59, 119], [116, 90, 156, 198, 373, 326]], [64, 128, 256]]\n",
      "YOLOv5n summary: 214 layers, 1769329 parameters, 1769329 gradients, 4.2 GFLOPs\n",
      "\n",
      "Transferred 342/349 items from yolov5n.pt\n",
      "\u001b[34m\u001b[1moptimizer:\u001b[0m SGD(lr=0.01) with parameter groups 57 weight(decay=0.0), 60 weight(decay=0.0005), 60 bias\n",
      "\u001b[34m\u001b[1mtrain: \u001b[0mScanning /app/assets/duckietown_object_detection_dataset/train/labels.cac\u001b[0m\n",
      "\u001b[34m\u001b[1mval: \u001b[0mScanning /app/assets/duckietown_object_detection_dataset/val/labels.cache..\u001b[0m\n",
      "\n",
      "\u001b[34m\u001b[1mAutoAnchor: \u001b[0m4.77 anchors/target, 0.992 Best Possible Recall (BPR). Current anchors are a good fit to dataset ✅\n",
      "Plotting labels to runs/train/exp/labels.jpg... \n",
      "Image sizes 416 train, 416 val\n",
      "Using 8 dataloader workers\n",
      "Logging results to \u001b[1mruns/train/exp\u001b[0m\n",
      "Starting training for 10 epochs...\n",
      "\n",
      "      Epoch    GPU_mem   box_loss   obj_loss   cls_loss  Instances       Size\n",
      "        0/9         0G     0.1337    0.01584    0.04866        117        416:  Exception in thread Thread-5:\n",
      "Traceback (most recent call last):\n",
      "  File \"/usr/local/lib/python3.8/threading.py\", line 932, in _bootstrap_inner\n",
      "    self.run()\n",
      "  File \"/usr/local/lib/python3.8/threading.py\", line 870, in run\n",
      "    self._target(*self._args, **self._kwargs)\n",
      "  File \"/app/assets/yolov5/utils/plots.py\", line 305, in plot_images\n",
      "    annotator.box_label(box, label, color=color)\n",
      "  File \"/app/assets/yolov5/utils/plots.py\", line 91, in box_label\n",
      "    w, h = self.font.getsize(label)  # text width, height\n",
      "AttributeError: 'FreeTypeFont' object has no attribute 'getsize'\n",
      "        0/9         0G     0.1343    0.01615    0.04835        115        416:  Exception in thread Thread-6:\n",
      "Traceback (most recent call last):\n",
      "  File \"/usr/local/lib/python3.8/threading.py\", line 932, in _bootstrap_inner\n",
      "    self.run()\n",
      "  File \"/usr/local/lib/python3.8/threading.py\", line 870, in run\n",
      "    self._target(*self._args, **self._kwargs)\n",
      "  File \"/app/assets/yolov5/utils/plots.py\", line 305, in plot_images\n",
      "    annotator.box_label(box, label, color=color)\n",
      "  File \"/app/assets/yolov5/utils/plots.py\", line 91, in box_label\n",
      "    w, h = self.font.getsize(label)  # text width, height\n",
      "AttributeError: 'FreeTypeFont' object has no attribute 'getsize'\n",
      "        0/9         0G     0.1347     0.0156    0.04763         93        416:  Exception in thread Thread-7:\n",
      "Traceback (most recent call last):\n",
      "  File \"/usr/local/lib/python3.8/threading.py\", line 932, in _bootstrap_inner\n",
      "    self.run()\n",
      "  File \"/usr/local/lib/python3.8/threading.py\", line 870, in run\n",
      "    self._target(*self._args, **self._kwargs)\n",
      "  File \"/app/assets/yolov5/utils/plots.py\", line 305, in plot_images\n",
      "    annotator.box_label(box, label, color=color)\n",
      "  File \"/app/assets/yolov5/utils/plots.py\", line 91, in box_label\n",
      "    w, h = self.font.getsize(label)  # text width, height\n",
      "AttributeError: 'FreeTypeFont' object has no attribute 'getsize'\n",
      "        0/9         0G     0.1255    0.01567    0.03104         10        416: 1\n",
      "                 Class     Images  Instances          P          R      mAP50   \n",
      "                   all        242        666    0.00129      0.215   0.000914   0.000224\n",
      "\n",
      "      Epoch    GPU_mem   box_loss   obj_loss   cls_loss  Instances       Size\n",
      "        1/9         0G    0.09364    0.01814    0.01303          7        416: 1\n",
      "                 Class     Images  Instances          P          R      mAP50   \n",
      "                   all        242        666      0.834      0.102     0.0738     0.0229\n",
      "\n",
      "      Epoch    GPU_mem   box_loss   obj_loss   cls_loss  Instances       Size\n",
      "        2/9         0G    0.08162    0.01706    0.01112         15        416: 1\n",
      "                 Class     Images  Instances          P          R      mAP50   \n",
      "                   all        242        666      0.829     0.0925      0.233     0.0794\n",
      "\n",
      "      Epoch    GPU_mem   box_loss   obj_loss   cls_loss  Instances       Size\n",
      "        3/9         0G    0.07243    0.01719   0.008794          7        416: 1\n",
      "                 Class     Images  Instances          P          R      mAP50   \n",
      "                   all        242        666      0.387      0.564      0.372       0.14\n",
      "\n",
      "      Epoch    GPU_mem   box_loss   obj_loss   cls_loss  Instances       Size\n",
      "        4/9         0G    0.06529    0.01659    0.00719         22        416: 1\n",
      "                 Class     Images  Instances          P          R      mAP50   \n",
      "                   all        242        666      0.502      0.741      0.521      0.248\n",
      "\n",
      "      Epoch    GPU_mem   box_loss   obj_loss   cls_loss  Instances       Size\n",
      "        5/9         0G    0.05803    0.01535   0.005907         10        416: 1\n",
      "                 Class     Images  Instances          P          R      mAP50   \n",
      "                   all        242        666       0.66      0.723      0.723      0.319\n",
      "\n",
      "      Epoch    GPU_mem   box_loss   obj_loss   cls_loss  Instances       Size\n",
      "        6/9         0G    0.05184    0.01458   0.004566         16        416: 1\n",
      "                 Class     Images  Instances          P          R      mAP50   \n",
      "                   all        242        666      0.449      0.755      0.652      0.271\n",
      "\n",
      "      Epoch    GPU_mem   box_loss   obj_loss   cls_loss  Instances       Size\n",
      "        7/9         0G    0.04609    0.01356   0.004287         11        416: 1\n",
      "                 Class     Images  Instances          P          R      mAP50   \n",
      "                   all        242        666      0.583      0.751      0.724      0.371\n",
      "\n",
      "      Epoch    GPU_mem   box_loss   obj_loss   cls_loss  Instances       Size\n",
      "        8/9         0G    0.04304    0.01305   0.003744         16        416: 1\n",
      "                 Class     Images  Instances          P          R      mAP50   \n",
      "                   all        242        666      0.721      0.753      0.768      0.455\n",
      "\n",
      "      Epoch    GPU_mem   box_loss   obj_loss   cls_loss  Instances       Size\n",
      "        9/9         0G    0.03979    0.01299   0.002947          8        416: 1\n",
      "                 Class     Images  Instances          P          R      mAP50   \n",
      "                   all        242        666      0.808      0.763      0.799      0.485\n",
      "\n",
      "10 epochs completed in 0.059 hours.\n",
      "Optimizer stripped from runs/train/exp/weights/last.pt, 3.8MB\n",
      "Optimizer stripped from runs/train/exp/weights/best.pt, 3.8MB\n",
      "\n",
      "Validating runs/train/exp/weights/best.pt...\n",
      "Fusing layers... \n",
      "YOLOv5n summary: 157 layers, 1764577 parameters, 0 gradients, 4.1 GFLOPs\n",
      "                 Class     Images  Instances          P          R      mAP50   Exception in thread Thread-9:\n",
      "Traceback (most recent call last):\n",
      "  File \"/usr/local/lib/python3.8/threading.py\", line 932, in _bootstrap_inner\n",
      "    self.run()\n",
      "  File \"/usr/local/lib/python3.8/threading.py\", line 870, in run\n",
      "    self._target(*self._args, **self._kwargs)\n",
      "  File \"/app/assets/yolov5/utils/plots.py\", line 305, in plot_images\n",
      "    annotator.box_label(box, label, color=color)\n",
      "  File \"/app/assets/yolov5/utils/plots.py\", line 91, in box_label\n",
      "    w, h = self.font.getsize(label)  # text width, height\n",
      "AttributeError: 'FreeTypeFont' object has no attribute 'getsize'\n",
      "Exception in thread Thread-8:\n",
      "Traceback (most recent call last):\n",
      "  File \"/usr/local/lib/python3.8/threading.py\", line 932, in _bootstrap_inner\n",
      "    self.run()\n",
      "  File \"/usr/local/lib/python3.8/threading.py\", line 870, in run\n",
      "    self._target(*self._args, **self._kwargs)\n",
      "  File \"/app/assets/yolov5/utils/plots.py\", line 305, in plot_images\n",
      "    annotator.box_label(box, label, color=color)\n",
      "  File \"/app/assets/yolov5/utils/plots.py\", line 91, in box_label\n",
      "    w, h = self.font.getsize(label)  # text width, height\n",
      "AttributeError: 'FreeTypeFont' object has no attribute 'getsize'\n",
      "                 Class     Images  Instances          P          R      mAP50   Exception in thread Thread-10:\n",
      "Traceback (most recent call last):\n",
      "  File \"/usr/local/lib/python3.8/threading.py\", line 932, in _bootstrap_inner\n",
      "    self.run()\n",
      "  File \"/usr/local/lib/python3.8/threading.py\", line 870, in run\n",
      "    self._target(*self._args, **self._kwargs)\n",
      "  File \"/app/assets/yolov5/utils/plots.py\", line 305, in plot_images\n",
      "    annotator.box_label(box, label, color=color)\n",
      "  File \"/app/assets/yolov5/utils/plots.py\", line 91, in box_label\n",
      "    w, h = self.font.getsize(label)  # text width, height\n",
      "AttributeError: 'FreeTypeFont' object has no attribute 'getsize'\n",
      "Exception in thread Thread-11:\n",
      "Traceback (most recent call last):\n",
      "  File \"/usr/local/lib/python3.8/threading.py\", line 932, in _bootstrap_inner\n",
      "    self.run()\n",
      "  File \"/usr/local/lib/python3.8/threading.py\", line 870, in run\n",
      "    self._target(*self._args, **self._kwargs)\n",
      "  File \"/app/assets/yolov5/utils/plots.py\", line 305, in plot_images\n",
      "    annotator.box_label(box, label, color=color)\n",
      "  File \"/app/assets/yolov5/utils/plots.py\", line 91, in box_label\n",
      "    w, h = self.font.getsize(label)  # text width, height\n",
      "AttributeError: 'FreeTypeFont' object has no attribute 'getsize'\n",
      "                 Class     Images  Instances          P          R      mAP50   Exception in thread Thread-13:\n",
      "Traceback (most recent call last):\n",
      "  File \"/usr/local/lib/python3.8/threading.py\", line 932, in _bootstrap_inner\n",
      "    self.run()\n",
      "  File \"/usr/local/lib/python3.8/threading.py\", line 870, in run\n",
      "    self._target(*self._args, **self._kwargs)\n",
      "  File \"/app/assets/yolov5/utils/plots.py\", line 305, in plot_images\n",
      "    annotator.box_label(box, label, color=color)\n",
      "  File \"/app/assets/yolov5/utils/plots.py\", line 91, in box_label\n",
      "    w, h = self.font.getsize(label)  # text width, height\n",
      "AttributeError: 'FreeTypeFont' object has no attribute 'getsize'\n",
      "Exception in thread Thread-12:\n",
      "Traceback (most recent call last):\n",
      "  File \"/usr/local/lib/python3.8/threading.py\", line 932, in _bootstrap_inner\n",
      "    self.run()\n",
      "  File \"/usr/local/lib/python3.8/threading.py\", line 870, in run\n",
      "    self._target(*self._args, **self._kwargs)\n",
      "  File \"/app/assets/yolov5/utils/plots.py\", line 305, in plot_images\n",
      "    annotator.box_label(box, label, color=color)\n",
      "  File \"/app/assets/yolov5/utils/plots.py\", line 91, in box_label\n",
      "    w, h = self.font.getsize(label)  # text width, height\n",
      "AttributeError: 'FreeTypeFont' object has no attribute 'getsize'\n",
      "                 Class     Images  Instances          P          R      mAP50   \n",
      "                   all        242        666      0.808      0.763      0.799      0.486\n",
      "                duckie        242        519      0.809      0.843       0.87      0.498\n",
      "                  cone        242         99      0.838      0.626       0.74      0.358\n",
      "                 truck        242         24      0.607          1      0.995      0.709\n",
      "                   bus        242         24      0.979      0.583      0.591       0.38\n",
      "Results saved to \u001b[1mruns/train/exp\u001b[0m\n",
      "Traceback (most recent call last):\n",
      "  File \"train.py\", line 633, in <module>\n",
      "    main(opt)\n",
      "  File \"train.py\", line 527, in main\n",
      "    train(opt.hyp, opt, device, callbacks)\n",
      "  File \"train.py\", line 427, in train\n",
      "    callbacks.run('on_train_end', last, best, epoch, results)\n",
      "  File \"/app/assets/yolov5/utils/callbacks.py\", line 76, in run\n",
      "    logger['callback'](*args, **kwargs)\n",
      "  File \"/app/assets/yolov5/utils/loggers/__init__.py\", line 281, in on_train_end\n",
      "    self.tb.add_image(f.stem, cv2.imread(str(f))[..., ::-1], epoch, dataformats='HWC')\n",
      "  File \"/usr/local/lib/python3.8/site-packages/torch/utils/tensorboard/writer.py\", line 546, in add_image\n",
      "    image(tag, img_tensor, dataformats=dataformats), global_step, walltime)\n",
      "  File \"/usr/local/lib/python3.8/site-packages/torch/utils/tensorboard/summary.py\", line 381, in image\n",
      "    image = make_image(tensor, rescale=rescale)\n",
      "  File \"/usr/local/lib/python3.8/site-packages/torch/utils/tensorboard/summary.py\", line 423, in make_image\n",
      "    image = image.resize((scaled_width, scaled_height), Image.ANTIALIAS)\n",
      "AttributeError: module 'PIL.Image' has no attribute 'ANTIALIAS'\n"
     ]
    }
   ],
   "source": [
    "!cd yolov5 && python3 train.py --cfg ./models/yolov5n.yaml --img 416 --batch 32 --epochs 10 --data duckietown.yaml --weights yolov5n.pt"
   ]
  },
  {
   "cell_type": "code",
   "execution_count": 24,
   "metadata": {
    "id": "b5jSQ4XubFqH"
   },
   "outputs": [
    {
     "name": "stdout",
     "output_type": "stream",
     "text": [
      "Latest exp is exp\n",
      "None\n",
      "Marked the model from the latest run (exp) as yolov5/best.pt.\n"
     ]
    }
   ],
   "source": [
    "import numpy as np\n",
    "\n",
    "all_exps = os.listdir(\"yolov5/runs/train\")\n",
    "all_exps_filtered = map(lambda x: int(x.replace(\"exp\", \"1\")), filter(lambda x: x.startswith(\"exp\"), all_exps))\n",
    "all_exps_filtered = np.array(list(all_exps))\n",
    "latest_exp_index = np.argmax(all_exps)\n",
    "latest_exp = all_exps[latest_exp_index]\n",
    "print(f\"Latest exp is {latest_exp}\")\n",
    "\n",
    "prun(f\"cp yolov5/runs/train/{latest_exp}/weights/best.pt yolov5/best.pt\")\n",
    "print(f\"Marked the model from the latest run ({latest_exp}) as yolov5/best.pt.\")"
   ]
  },
  {
   "cell_type": "code",
   "execution_count": 22,
   "metadata": {},
   "outputs": [
    {
     "name": "stdout",
     "output_type": "stream",
     "text": [
      "Latest exp is exp1\n",
      "Marked the model from the latest run (exp1) as yolov5/best.pt.\n"
     ]
    },
    {
     "name": "stderr",
     "output_type": "stream",
     "text": [
      "cp: cannot stat 'yolov5/runs/train/exp1/weights/best.pt': No such file or directory\n"
     ]
    }
   ],
   "source": [
    "import os\n",
    "import numpy as np\n",
    "\n",
    "all_exps = os.listdir(\"yolov5/runs/train\")\n",
    "all_exps_filtered = list(map(lambda x: int(x.replace(\"exp\", \"1\")), filter(lambda x: x.startswith(\"exp\"), all_exps)))\n",
    "\n",
    "# If there are no matching directories, exit\n",
    "if not all_exps_filtered:\n",
    "    print(\"No matching directories found!\")\n",
    "    exit()\n",
    "\n",
    "latest_exp_index = np.argmax(all_exps_filtered)\n",
    "latest_exp = f\"exp{all_exps_filtered[latest_exp_index]}\"\n",
    "print(f\"Latest exp is {latest_exp}\")\n",
    "\n",
    "os.system(f\"cp yolov5/runs/train/{latest_exp}/weights/best.pt yolov5/best.pt\")\n",
    "print(f\"Marked the model from the latest run ({latest_exp}) as yolov5/best.pt.\")\n"
   ]
  },
  {
   "cell_type": "markdown",
   "metadata": {
    "id": "gz2PZ7d0qPt0"
   },
   "source": [
    "# Next, we can upload your model to Duckietown's cloud!\n",
    "\n",
    "We will need our token to access our personal cloud space."
   ]
  },
  {
   "cell_type": "code",
   "execution_count": 25,
   "metadata": {
    "id": "hl-HhnrFtKnp"
   },
   "outputs": [],
   "source": [
    "# TODO: Fill in the duckietown token here\n",
    "YOUR_DT_TOKEN = \"dt1-3nT7FDbT7NLPrXykNJW6pALtojDqDpApvrDdn7u7qVrhwvL-43dzqWFnWd8KBa1yev1g3UKnzVxZkkTbfakGpMump6ZThdzwSdStn7yTvASbsDof6d\""
   ]
  },
  {
   "cell_type": "code",
   "execution_count": 33,
   "metadata": {},
   "outputs": [
    {
     "data": {
      "text/plain": [
       "'/app/assets'"
      ]
     },
     "execution_count": 33,
     "metadata": {},
     "output_type": "execute_result"
    }
   ],
   "source": [
    "import os\n",
    "os.getcwd()\n",
    "os.path.join(os.getcwd(),\"yolov5/best.pt\")"
   ]
  },
  {
   "cell_type": "markdown",
   "metadata": {
    "id": "PCd7RrjLc64Z"
   },
   "source": [
    "Then, we chose the location of the trained model on disk and its name once uploaded to our cloud space. You should not change these values, or the robots will not be able to find the model to download."
   ]
  },
  {
   "cell_type": "code",
   "execution_count": 29,
   "metadata": {
    "id": "4bNXEgAFpRIH"
   },
   "outputs": [
    {
     "name": "stdout",
     "output_type": "stream",
     "text": [
      "/app/assets\n",
      "./yolov5/best.pt\n",
      "courses/mooc/objdet/data/nn_models/yolov5n.pt\n",
      "Requirement already satisfied: dt-data-api-daffy in /usr/local/lib/python3.8/site-packages (1.2.0)\n",
      "Requirement already satisfied: requests in /usr/local/lib/python3.8/site-packages (from dt-data-api-daffy) (2.31.0)\n",
      "Requirement already satisfied: dt-authentication-daffy in /usr/local/lib/python3.8/site-packages (from dt-data-api-daffy) (0.1.16)\n",
      "Requirement already satisfied: lxml in /usr/local/lib/python3.8/site-packages (from dt-data-api-daffy) (4.9.3)\n",
      "Requirement already satisfied: beautifulsoup4 in /usr/local/lib/python3.8/site-packages (from dt-data-api-daffy) (4.12.2)\n",
      "Requirement already satisfied: soupsieve>1.2 in /usr/local/lib/python3.8/site-packages (from beautifulsoup4->dt-data-api-daffy) (2.5)\n",
      "Requirement already satisfied: base58 in /usr/local/lib/python3.8/site-packages (from dt-authentication-daffy->dt-data-api-daffy) (2.1.1)\n",
      "Requirement already satisfied: ecdsa in /usr/local/lib/python3.8/site-packages (from dt-authentication-daffy->dt-data-api-daffy) (0.18.0)\n",
      "Requirement already satisfied: certifi>=2017.4.17 in /usr/local/lib/python3.8/site-packages (from requests->dt-data-api-daffy) (2023.7.22)\n",
      "Requirement already satisfied: charset-normalizer<4,>=2 in /usr/local/lib/python3.8/site-packages (from requests->dt-data-api-daffy) (3.2.0)\n",
      "Requirement already satisfied: urllib3<3,>=1.21.1 in /usr/local/lib/python3.8/site-packages (from requests->dt-data-api-daffy) (1.26.16)\n",
      "Requirement already satisfied: idna<4,>=2.5 in /usr/local/lib/python3.8/site-packages (from requests->dt-data-api-daffy) (3.4)\n",
      "Requirement already satisfied: six>=1.9.0 in /usr/local/lib/python3.8/site-packages (from ecdsa->dt-authentication-daffy->dt-data-api-daffy) (1.16.0)\n",
      "\u001b[33mWARNING: Running pip as the 'root' user can result in broken permissions and conflicting behaviour with the system package manager. It is recommended to use a virtual environment instead: https://pip.pypa.io/warnings/venv\u001b[0m\u001b[33m\n",
      "\u001b[0m\n",
      "\u001b[1m[\u001b[0m\u001b[34;49mnotice\u001b[0m\u001b[1;39;49m]\u001b[0m\u001b[39;49m A new release of pip is available: \u001b[0m\u001b[31;49m23.0.1\u001b[0m\u001b[39;49m -> \u001b[0m\u001b[32;49m23.2.1\u001b[0m\n",
      "\u001b[1m[\u001b[0m\u001b[34;49mnotice\u001b[0m\u001b[1;39;49m]\u001b[0m\u001b[39;49m To update, run: \u001b[0m\u001b[32;49mpip install --upgrade pip\u001b[0m\n"
     ]
    }
   ],
   "source": [
    "import sys\n",
    "sys.path.insert(0, './yolov5')\n",
    "print(os.getcwd())\n",
    "# DO NOT CHANGE THESE\n",
    "model_name = \"yolov5n\"\n",
    "model_local_path = \"./yolov5/best.pt\"\n",
    "model_remote_path = f\"courses/mooc/objdet/data/nn_models/{model_name}.pt\"\n",
    "print(model_local_path)\n",
    "print(model_remote_path)\n",
    "# install DCSS client\n",
    "!pip3 install dt-data-api-daffy"
   ]
  },
  {
   "cell_type": "markdown",
   "metadata": {
    "id": "B8DYodvDdQKr"
   },
   "source": [
    "We now open a pointer to our cloud space and upload the model."
   ]
  },
  {
   "cell_type": "code",
   "execution_count": 30,
   "metadata": {
    "id": "NAU4dTNJVkyx"
   },
   "outputs": [],
   "source": [
    "import torch\n",
    "from dt_data_api import DataClient, Storage\n",
    "\n",
    "# open a pointer to our personal duckietown cloud space\n",
    "client = DataClient(YOUR_DT_TOKEN)\n",
    "storage = client.storage(\"user\")\n",
    "\n",
    "# upload model\n",
    "upload = storage.upload(model_local_path, model_remote_path)\n",
    "upload.join()"
   ]
  },
  {
   "cell_type": "markdown",
   "metadata": {
    "id": "VUVJ5BfBGq7F"
   },
   "source": [
    "# Done!\n",
    "\n",
    "We're done training! You can now close this tab and go back to the `Training` notebook"
   ]
  },
  {
   "cell_type": "code",
   "execution_count": null,
   "metadata": {},
   "outputs": [],
   "source": []
  }
 ],
 "metadata": {
  "accelerator": "GPU",
  "colab": {
   "provenance": []
  },
  "gpuClass": "standard",
  "kernelspec": {
   "display_name": "Python 3 (ipykernel)",
   "language": "python",
   "name": "python3"
  },
  "language_info": {
   "codemirror_mode": {
    "name": "ipython",
    "version": 3
   },
   "file_extension": ".py",
   "mimetype": "text/x-python",
   "name": "python",
   "nbconvert_exporter": "python",
   "pygments_lexer": "ipython3",
   "version": "3.8.18"
  }
 },
 "nbformat": 4,
 "nbformat_minor": 4
}
